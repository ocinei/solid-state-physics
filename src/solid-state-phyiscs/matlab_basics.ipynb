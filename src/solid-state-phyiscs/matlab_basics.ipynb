{
 "cells": [
  {
   "cell_type": "markdown",
   "metadata": {},
   "source": [
    "# Calling matlab functions from python \n",
    "\n",
    "- Using [Call MATLAB Functions from Python - MATLAB & Simulink](https://www.mathworks.com/help/matlab/matlab_external/call-matlab-functions-from-python.html) as the main resource \n",
    "- Before calling matlab functions from python, we need to install matlab engine API for python. Installation guide: [Install MATLAB Engine API for Python - MATLAB & Simulink](https://www.mathworks.com/help/matlab/matlab_external/install-the-matlab-engine-for-python.html)\n"
   ]
  }
 ],
 "metadata": {
  "language_info": {
   "name": "python"
  },
  "orig_nbformat": 4
 },
 "nbformat": 4,
 "nbformat_minor": 2
}
